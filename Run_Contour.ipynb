{
 "cells": [
  {
   "cell_type": "code",
   "execution_count": 1,
   "metadata": {
    "collapsed": true
   },
   "outputs": [],
   "source": [
    "import numpy as np\n",
    "import os\n",
    "import pickle"
   ]
  },
  {
   "cell_type": "code",
   "execution_count": 2,
   "metadata": {
    "collapsed": false
   },
   "outputs": [
    {
     "name": "stdout",
     "output_type": "stream",
     "text": [
      "Populating the interactive namespace from numpy and matplotlib\n"
     ]
    },
    {
     "name": "stderr",
     "output_type": "stream",
     "text": [
      "/home/brian/.virtualenv/kairos-std/lib/python3.5/site-packages/IPython/core/magics/pylab.py:161: UserWarning: pylab import has clobbered these variables: ['plt']\n",
      "`%matplotlib` prevents importing * from pylab and numpy\n",
      "  \"\\n`%matplotlib` prevents importing * from pylab and numpy\"\n"
     ]
    }
   ],
   "source": [
    "import matplotlib as plt\n",
    "%pylab inline"
   ]
  },
  {
   "cell_type": "code",
   "execution_count": 3,
   "metadata": {
    "collapsed": true
   },
   "outputs": [],
   "source": [
    "from field_simulation import compute_contour_data\n",
    "from field_simulation import field_simulation"
   ]
  },
  {
   "cell_type": "code",
   "execution_count": 4,
   "metadata": {
    "collapsed": true
   },
   "outputs": [],
   "source": [
    "from aggregate_realizations import *"
   ]
  },
  {
   "cell_type": "code",
   "execution_count": 5,
   "metadata": {
    "collapsed": true
   },
   "outputs": [],
   "source": [
    "from GeneralClassesFunctions.plotting_functions import *"
   ]
  },
  {
   "cell_type": "code",
   "execution_count": 6,
   "metadata": {
    "collapsed": true
   },
   "outputs": [],
   "source": [
    "#%load_ext autoreload\n",
    "#%autoreload 2"
   ]
  },
  {
   "cell_type": "code",
   "execution_count": 7,
   "metadata": {
    "collapsed": true
   },
   "outputs": [],
   "source": [
    "mcfpd_to_gps = 1000 / 24 / 60 * 0.0283 / 60 * 1e5 / 8.314 / 293 * 16"
   ]
  },
  {
   "cell_type": "code",
   "execution_count": 8,
   "metadata": {
    "collapsed": false
   },
   "outputs": [],
   "source": [
    "inst_param_list = []\n",
    "for center in [20, 35, 50]: #[20, 35, 50, 75, 100, 125, 150]:\n",
    "    inst_param_list.append({\"center\": center*mcfpd_to_gps, \n",
    "                            \"width\": 0.6*center*mcfpd_to_gps, \n",
    "                            \"scale\": 3*mcfpd_to_gps})"
   ]
  },
  {
   "cell_type": "code",
   "execution_count": 9,
   "metadata": {
    "collapsed": false
   },
   "outputs": [
    {
     "data": {
      "text/plain": [
       "[{'center': 4.302739275863272,\n",
       "  'scale': 0.6454108913794907,\n",
       "  'width': 2.581643565517963},\n",
       " {'center': 7.529793732760726,\n",
       "  'scale': 0.6454108913794907,\n",
       "  'width': 4.517876239656435},\n",
       " {'center': 10.756848189658179,\n",
       "  'scale': 0.6454108913794907,\n",
       "  'width': 6.454108913794907}]"
      ]
     },
     "execution_count": 9,
     "metadata": {},
     "output_type": "execute_result"
    }
   ],
   "source": [
    "inst_param_list"
   ]
  },
  {
   "cell_type": "code",
   "execution_count": 10,
   "metadata": {
    "collapsed": true
   },
   "outputs": [],
   "source": [
    "frequency_list = [7, 15, 30] #[7, 15, 30, 60, 90]"
   ]
  },
  {
   "cell_type": "code",
   "execution_count": 11,
   "metadata": {
    "collapsed": true
   },
   "outputs": [],
   "source": [
    "#top_dir = \"/media/sf_share/first_big\"\n",
    "top_dir = \"Results/powerlaw_take1\""
   ]
  },
  {
   "cell_type": "code",
   "execution_count": 12,
   "metadata": {
    "collapsed": false
   },
   "outputs": [
    {
     "name": "stdout",
     "output_type": "stream",
     "text": [
      "Multiprocessing on 4 nodes\n",
      "Running ['AD, MIR']\n",
      "Running ['AD, MIR']\n",
      "Running ['AD, MIR']\n",
      "Running ['AD, MIR']\n",
      "save_results:: dir_out: Results/powerlaw_take1/exp_erf_inst1_freq1  label: exp_erf_inst1_freq1_  runID: 2\n",
      "save_results:: dir_out: Results/powerlaw_take1/exp_erf_inst0_freq2  label: exp_erf_inst0_freq2_  runID: 2\n",
      "save_results:: dir_out: Results/powerlaw_take1/exp_erf_inst0_freq0  label: exp_erf_inst0_freq0_  runID: 3\n",
      "save_results:: dir_out: Results/powerlaw_take1/exp_erf_inst2_freq0  label: exp_erf_inst2_freq0_  runID: 2\n",
      "Running ['AD, MIR']\n",
      "Running ['AD, MIR']\n",
      "Running ['AD, MIR']\n",
      "Running ['AD, MIR']\n",
      "save_results:: dir_out: Results/powerlaw_take1/exp_erf_inst1_freq0  label: exp_erf_inst1_freq0_  runID: 2\n",
      "save_results:: dir_out: Results/powerlaw_take1/exp_erf_inst1_freq2  label: exp_erf_inst1_freq2_  runID: 3\n",
      "save_results:: dir_out: Results/powerlaw_take1/exp_erf_inst0_freq1  label: exp_erf_inst0_freq1_  runID: 2\n",
      "save_results:: dir_out: Results/powerlaw_take1/exp_erf_inst2_freq1  label: exp_erf_inst2_freq1_  runID: 2\n",
      "Running ['AD, MIR']\n",
      "Running ['AD, MIR']\n",
      "Running ['AD, MIR']\n",
      "Running ['AD, MIR']\n",
      "save_results:: dir_out: Results/powerlaw_take1/exp_erf_inst0_freq1  label: exp_erf_inst0_freq1_  runID: 3\n",
      "save_results:: dir_out: Results/powerlaw_take1/exp_erf_inst1_freq0  label: exp_erf_inst1_freq0_  runID: 3\n",
      "save_results:: dir_out: Results/powerlaw_take1/exp_erf_inst2_freq2  label: exp_erf_inst2_freq2_  runID: 2\n",
      "save_results:: dir_out: Results/powerlaw_take1/exp_erf_inst1_freq2  label: exp_erf_inst1_freq2_  runID: 4\n",
      "Running ['AD, MIR']\n",
      "Running ['AD, MIR']\n",
      "Running ['AD, MIR']\n",
      "Running ['AD, MIR']\n",
      "save_results:: dir_out: Results/powerlaw_take1/exp_erf_inst0_freq2  label: exp_erf_inst0_freq2_  runID: 3\n",
      "save_results:: dir_out: Results/powerlaw_take1/exp_erf_inst0_freq0  label: exp_erf_inst0_freq0_  runID: 4\n",
      "save_results:: dir_out: Results/powerlaw_take1/exp_erf_inst1_freq1  label: exp_erf_inst1_freq1_  runID: 3\n",
      "save_results:: dir_out: Results/powerlaw_take1/exp_erf_inst2_freq0  label: exp_erf_inst2_freq0_  runID: 3\n",
      "Running ['AD, MIR']\n",
      "Running ['AD, MIR']\n",
      "Running ['AD, MIR']\n",
      "Running ['AD, MIR']\n",
      "save_results:: dir_out: Results/powerlaw_take1/exp_erf_inst2_freq1  label: exp_erf_inst2_freq1_  runID: 3\n",
      "save_results:: dir_out: Results/powerlaw_take1/exp_erf_inst0_freq2  label: exp_erf_inst0_freq2_  runID: 4\n",
      "save_results:: dir_out: Results/powerlaw_take1/exp_erf_inst0_freq0  label: exp_erf_inst0_freq0_  runID: 5\n",
      "Running ['AD, MIR']\n",
      "save_results:: dir_out: Results/powerlaw_take1/exp_erf_inst1_freq1  label: exp_erf_inst1_freq1_  runID: 4\n",
      "Running ['AD, MIR']\n",
      "Running ['AD, MIR']\n",
      "Running ['AD, MIR']\n",
      "save_results:: dir_out: Results/powerlaw_take1/exp_erf_inst2_freq2  label: exp_erf_inst2_freq2_  runID: 3\n",
      "save_results:: dir_out: Results/powerlaw_take1/exp_erf_inst1_freq0  label: exp_erf_inst1_freq0_  runID: 4\n",
      "Running ['AD, MIR']\n",
      "save_results:: dir_out: Results/powerlaw_take1/exp_erf_inst0_freq1  label: exp_erf_inst0_freq1_  runID: 4\n",
      "save_results:: dir_out: Results/powerlaw_take1/exp_erf_inst1_freq2  label: exp_erf_inst1_freq2_  runID: 5\n",
      "Running ['AD, MIR']\n",
      "save_results:: dir_out: Results/powerlaw_take1/exp_erf_inst2_freq0  label: exp_erf_inst2_freq0_  runID: 4\n",
      "save_results:: dir_out: Results/powerlaw_take1/exp_erf_inst2_freq2  label: exp_erf_inst2_freq2_  runID: 4\n",
      "Running ['AD, MIR']\n",
      "save_results:: dir_out: Results/powerlaw_take1/exp_erf_inst2_freq1  label: exp_erf_inst2_freq1_  runID: 4\n"
     ]
    }
   ],
   "source": [
    "compute_contour_data(instrument_param_list=inst_param_list,\n",
    "                    survey_interval_list=frequency_list,\n",
    "                     n_realizations=1500,\n",
    "                     ls_detection_model=\"exp_erf\",\n",
    "                     gas_field_name = \"power_law\",\n",
    "                     baseline_survey_interval=180,\n",
    "                     baseline_distance=10,\n",
    "                     master_out_dir=top_dir\n",
    "                    )"
   ]
  }
 ],
 "metadata": {
  "kernelspec": {
   "display_name": "Python 3",
   "language": "python",
   "name": "python3"
  },
  "language_info": {
   "codemirror_mode": {
    "name": "ipython",
    "version": 3
   },
   "file_extension": ".py",
   "mimetype": "text/x-python",
   "name": "python",
   "nbconvert_exporter": "python",
   "pygments_lexer": "ipython3",
   "version": "3.5.2"
  }
 },
 "nbformat": 4,
 "nbformat_minor": 2
}
